{
 "cells": [
  {
   "cell_type": "markdown",
   "metadata": {
    "id": "wIsGXQMpjMCo"
   },
   "source": [
    "# Fechas en Python"
   ]
  },
  {
   "cell_type": "code",
   "execution_count": null,
   "metadata": {
    "executionInfo": {
     "elapsed": 36,
     "status": "ok",
     "timestamp": 1679004894304,
     "user": {
      "displayName": "Brenda Ivette García Maya",
      "userId": "17523487134325692146"
     },
     "user_tz": 360
    },
    "id": "P5CLQgmAVaqJ"
   },
   "outputs": [],
   "source": [
    "#Fecha al día de hoy con horas\n",
    "from datetime import datetime\n",
    "now = datetime.now()\n",
    "print(now)"
   ]
  },
  {
   "cell_type": "code",
   "execution_count": null,
   "metadata": {
    "colab": {
     "base_uri": "https://localhost:8080/"
    },
    "executionInfo": {
     "elapsed": 33,
     "status": "ok",
     "timestamp": 1679004894306,
     "user": {
      "displayName": "Brenda Ivette García Maya",
      "userId": "17523487134325692146"
     },
     "user_tz": 360
    },
    "id": "mdrmHdBkjQLW",
    "outputId": "4c83d4ac-08bc-470e-bd07-16be9cf42fa7"
   },
   "outputs": [],
   "source": [
    "#importamos  libreria para trabajar con fechas\n",
    "from datetime import datetime, date, time, timedelta\n",
    "\n",
    "#fecha del día de hoy\n",
    "#Por defecto Python escribe las fechas en formato año-mes-día\n",
    "hoy = date.today()\n",
    "print(hoy)\n",
    "#Para cambiar el formato a día/mes/año\n",
    "print(hoy.strftime('%d/%m/%Y'))"
   ]
  },
  {
   "cell_type": "code",
   "execution_count": null,
   "metadata": {
    "colab": {
     "base_uri": "https://localhost:8080/"
    },
    "executionInfo": {
     "elapsed": 27,
     "status": "ok",
     "timestamp": 1679004894308,
     "user": {
      "displayName": "Brenda Ivette García Maya",
      "userId": "17523487134325692146"
     },
     "user_tz": 360
    },
    "id": "3g_ftG5MnAcO",
    "outputId": "649c6ed6-d195-4cfb-9cea-5d73781b4698"
   },
   "outputs": [],
   "source": [
    "#tipo de variable para hoy\n",
    "type(hoy)"
   ]
  },
  {
   "cell_type": "code",
   "execution_count": null,
   "metadata": {
    "colab": {
     "base_uri": "https://localhost:8080/"
    },
    "executionInfo": {
     "elapsed": 21,
     "status": "ok",
     "timestamp": 1679004894309,
     "user": {
      "displayName": "Brenda Ivette García Maya",
      "userId": "17523487134325692146"
     },
     "user_tz": 360
    },
    "id": "Wew6dGkXPgjr",
    "outputId": "ca3d7122-efa5-4e06-9e42-bca6ea339392"
   },
   "outputs": [],
   "source": [
    "#Si queremos extraer solo el día de la semana\n",
    "#version larga\n",
    "dia_semanal= hoy.strftime('%A')\n",
    "print(dia_semanal)\n",
    "#version corta\n",
    "dia_semanac= hoy.strftime('%a')\n",
    "print(dia_semanac)\n",
    "#Si queremos el día de la semana con número\n",
    "dia_semanan=hoy.strftime('%w')\n",
    "print(dia_semanan)"
   ]
  },
  {
   "cell_type": "code",
   "execution_count": null,
   "metadata": {
    "colab": {
     "base_uri": "https://localhost:8080/"
    },
    "executionInfo": {
     "elapsed": 19,
     "status": "ok",
     "timestamp": 1679004894310,
     "user": {
      "displayName": "Brenda Ivette García Maya",
      "userId": "17523487134325692146"
     },
     "user_tz": 360
    },
    "id": "GjvGnYllTYBi",
    "outputId": "a3e66a87-9df4-4ec2-9da9-0412916f2921"
   },
   "outputs": [],
   "source": [
    "#Si queremos extraer el mes\n",
    "#version corta\n",
    "mes=hoy.strftime('%b')\n",
    "print(mes)\n",
    "#Versión larga\n",
    "mesl= hoy.strftime('%B')\n",
    "print(mesl)\n",
    "#Si queremos el mes con número\n",
    "mesn=hoy.strftime('%m')\n",
    "print(mesn)"
   ]
  },
  {
   "cell_type": "code",
   "execution_count": null,
   "metadata": {
    "colab": {
     "base_uri": "https://localhost:8080/"
    },
    "executionInfo": {
     "elapsed": 315,
     "status": "ok",
     "timestamp": 1679004894613,
     "user": {
      "displayName": "Brenda Ivette García Maya",
      "userId": "17523487134325692146"
     },
     "user_tz": 360
    },
    "id": "-RV7CcMdlUMb",
    "outputId": "ca9e109a-f687-4611-b3bd-ada2129b7a33"
   },
   "outputs": [],
   "source": [
    "#Construir una fecha en especifico\n",
    "#1 de diciembre de 2020\n",
    "#año- mes -día\n",
    "mi_fecha = date(2020, 12, 1)\n",
    "print(mi_fecha)\n",
    "#Cambiar el formato a la fecha\n",
    "print(mi_fecha.strftime('%d/%m/%Y'))"
   ]
  },
  {
   "cell_type": "code",
   "execution_count": null,
   "metadata": {
    "colab": {
     "base_uri": "https://localhost:8080/"
    },
    "executionInfo": {
     "elapsed": 28,
     "status": "ok",
     "timestamp": 1679004894614,
     "user": {
      "displayName": "Brenda Ivette García Maya",
      "userId": "17523487134325692146"
     },
     "user_tz": 360
    },
    "id": "_QUqHduelVaL",
    "outputId": "82c069f1-63a3-41f1-ca35-37a49c1a4456"
   },
   "outputs": [],
   "source": [
    "#Escribir una hora en específico\n",
    "mi_hora = time(14, 30,2)\n",
    "print(mi_hora)"
   ]
  },
  {
   "cell_type": "code",
   "execution_count": null,
   "metadata": {
    "colab": {
     "base_uri": "https://localhost:8080/"
    },
    "executionInfo": {
     "elapsed": 24,
     "status": "ok",
     "timestamp": 1679004894614,
     "user": {
      "displayName": "Brenda Ivette García Maya",
      "userId": "17523487134325692146"
     },
     "user_tz": 360
    },
    "id": "wblZl1gsncwP",
    "outputId": "4d7b4087-9d11-4624-bfd9-d3e0d5379fd8"
   },
   "outputs": [],
   "source": [
    "#Convinar fecha y hora\n",
    "fecha_hora = datetime(2023, 3, 17, 7, 20)\n",
    "print(fecha_hora)\n",
    "#Cambiar el formato de una fecha y hora determinada\n",
    "print(fecha_hora.strftime('%d/%m/%Y %H:%M'))"
   ]
  },
  {
   "cell_type": "code",
   "execution_count": null,
   "metadata": {
    "executionInfo": {
     "elapsed": 21,
     "status": "ok",
     "timestamp": 1679004894614,
     "user": {
      "displayName": "Brenda Ivette García Maya",
      "userId": "17523487134325692146"
     },
     "user_tz": 360
    },
    "id": "sKoMwCA4nfBY"
   },
   "outputs": [],
   "source": [
    "#Convertir una cadena de texto en fecha\n",
    "#from datetime import datetime\n",
    "texto = '2023-03-17 7:20:03'"
   ]
  },
  {
   "cell_type": "code",
   "execution_count": null,
   "metadata": {
    "colab": {
     "base_uri": "https://localhost:8080/"
    },
    "executionInfo": {
     "elapsed": 22,
     "status": "ok",
     "timestamp": 1679004894615,
     "user": {
      "displayName": "Brenda Ivette García Maya",
      "userId": "17523487134325692146"
     },
     "user_tz": 360
    },
    "id": "QyOrhHmDoUwd",
    "outputId": "6851ecba-9b07-443b-a729-30926ae2054e"
   },
   "outputs": [],
   "source": [
    "type(texto)"
   ]
  },
  {
   "cell_type": "code",
   "execution_count": null,
   "metadata": {
    "colab": {
     "base_uri": "https://localhost:8080/"
    },
    "executionInfo": {
     "elapsed": 21,
     "status": "ok",
     "timestamp": 1679004894615,
     "user": {
      "displayName": "Brenda Ivette García Maya",
      "userId": "17523487134325692146"
     },
     "user_tz": 360
    },
    "id": "-eLI5XqRoXWo",
    "outputId": "e8378909-8b08-4c7a-c915-7a131e4d8c61"
   },
   "outputs": [],
   "source": [
    "texto_fecha = datetime.strptime(texto, '%Y-%m-%d %H:%M:%S')\n",
    "print(texto_fecha)"
   ]
  },
  {
   "cell_type": "code",
   "execution_count": null,
   "metadata": {
    "colab": {
     "base_uri": "https://localhost:8080/"
    },
    "executionInfo": {
     "elapsed": 19,
     "status": "ok",
     "timestamp": 1679004894616,
     "user": {
      "displayName": "Brenda Ivette García Maya",
      "userId": "17523487134325692146"
     },
     "user_tz": 360
    },
    "id": "wqi9UScUom_5",
    "outputId": "efeb669a-efe7-467f-8997-53486902e4f2"
   },
   "outputs": [],
   "source": [
    "type(texto_fecha)"
   ]
  },
  {
   "cell_type": "code",
   "execution_count": null,
   "metadata": {
    "colab": {
     "base_uri": "https://localhost:8080/"
    },
    "executionInfo": {
     "elapsed": 17,
     "status": "ok",
     "timestamp": 1679004894616,
     "user": {
      "displayName": "Brenda Ivette García Maya",
      "userId": "17523487134325692146"
     },
     "user_tz": 360
    },
    "id": "VxMQ1Dp7opxG",
    "outputId": "96e7102d-5884-454f-c7fa-8bc4834b78c5"
   },
   "outputs": [],
   "source": [
    "#Calcular la diferencia entre dos fechas\n",
    "#from datetime import date\n",
    "primera_fecha = date(2020, 1, 1)\n",
    "segunda_fecha = date(2020, 1, 20)\n",
    "diferencia = segunda_fecha - primera_fecha\n",
    "print(diferencia)\n",
    "print('diferencia en días',diferencia.days)\n",
    "print('diferencia en segundos', diferencia.total_seconds())"
   ]
  },
  {
   "cell_type": "code",
   "execution_count": null,
   "metadata": {
    "colab": {
     "base_uri": "https://localhost:8080/"
    },
    "executionInfo": {
     "elapsed": 15,
     "status": "ok",
     "timestamp": 1679004894617,
     "user": {
      "displayName": "Brenda Ivette García Maya",
      "userId": "17523487134325692146"
     },
     "user_tz": 360
    },
    "id": "gGSKmxDypxQB",
    "outputId": "0b61ede1-0374-4809-9b42-ec8a12d284fa"
   },
   "outputs": [],
   "source": [
    "#sumar o restar una cantidad de tiempo a una fecha\n",
    "#from datetime import datetime, timedelta\n",
    "fecha_inicial = datetime(2022, 1, 1, 0, 30)\n",
    "incremento = timedelta(days=1,hours=3, minutes=15)\n",
    "nueva_fecha = fecha_inicial + incremento\n",
    "print(nueva_fecha)"
   ]
  }
 ],
 "metadata": {
  "colab": {
   "authorship_tag": "ABX9TyO7R2YHIBWGGpX875u2xIkz",
   "mount_file_id": "1K3LHKh7Z8gCPPs-69_7x14QmbbHSm3_D",
   "provenance": []
  },
  "kernelspec": {
   "display_name": "Python 3 (ipykernel)",
   "language": "python",
   "name": "python3"
  },
  "language_info": {
   "codemirror_mode": {
    "name": "ipython",
    "version": 3
   },
   "file_extension": ".py",
   "mimetype": "text/x-python",
   "name": "python",
   "nbconvert_exporter": "python",
   "pygments_lexer": "ipython3",
   "version": "3.10.9"
  }
 },
 "nbformat": 4,
 "nbformat_minor": 1
}
