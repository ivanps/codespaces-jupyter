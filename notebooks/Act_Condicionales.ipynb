{
 "cells": [
  {
   "cell_type": "markdown",
   "metadata": {
    "id": "-L-ILyLBXPgD"
   },
   "source": [
    "# Condicionales\n",
    "Los condicionales son instrucciones que permiten que se ejecute una acción dependiendo de una prueba lógica.\n",
    "\n",
    "Los principales condicionales en programación son: if, else, if else"
   ]
  },
  {
   "cell_type": "markdown",
   "metadata": {
    "id": "O4PI-DkDX9Na"
   },
   "source": [
    "**Simbolos de condiciones**\n",
    "* igual a ==\n",
    "* Diferente a !=\n",
    "* Mayor que >\n",
    "*Menor que <\n",
    "* Mayor o igual que >=\n",
    "* Menor que o igual que <="
   ]
  },
  {
   "cell_type": "code",
   "execution_count": null,
   "metadata": {
    "colab": {
     "base_uri": "https://localhost:8080/",
     "height": 0
    },
    "executionInfo": {
     "elapsed": 35938,
     "status": "ok",
     "timestamp": 1680009981540,
     "user": {
      "displayName": "Brenda Ivette García Maya",
      "userId": "17523487134325692146"
     },
     "user_tz": 360
    },
    "id": "msqubgnjX8N5",
    "outputId": "506c0b98-a517-4b01-db98-fdb7dbaf3bd5"
   },
   "outputs": [],
   "source": [
    "edad=int(input(\"Ingresa tu edad: \"))"
   ]
  },
  {
   "cell_type": "code",
   "execution_count": null,
   "metadata": {
    "colab": {
     "base_uri": "https://localhost:8080/",
     "height": 0
    },
    "executionInfo": {
     "elapsed": 138,
     "status": "ok",
     "timestamp": 1680010121054,
     "user": {
      "displayName": "Brenda Ivette García Maya",
      "userId": "17523487134325692146"
     },
     "user_tz": 360
    },
    "id": "6F1UWU0aZOq4",
    "outputId": "2de2f01a-1185-4488-8681-42d215d698b4"
   },
   "outputs": [],
   "source": [
    "if edad >=18:\n",
    "  print(\"Puedes votar\")"
   ]
  },
  {
   "cell_type": "code",
   "execution_count": null,
   "metadata": {
    "executionInfo": {
     "elapsed": 4,
     "status": "ok",
     "timestamp": 1680010151504,
     "user": {
      "displayName": "Brenda Ivette García Maya",
      "userId": "17523487134325692146"
     },
     "user_tz": 360
    },
    "id": "EQzteo2-aA1L"
   },
   "outputs": [],
   "source": [
    "edad=1\n",
    "print(edad)"
   ]
  },
  {
   "cell_type": "code",
   "execution_count": null,
   "metadata": {
    "executionInfo": {
     "elapsed": 237,
     "status": "ok",
     "timestamp": 1680010169211,
     "user": {
      "displayName": "Brenda Ivette García Maya",
      "userId": "17523487134325692146"
     },
     "user_tz": 360
    },
    "id": "-5sG9R9FaJzT"
   },
   "outputs": [],
   "source": [
    "if edad >=18:\n",
    "  print(\"Puedes votar\")"
   ]
  },
  {
   "cell_type": "markdown",
   "metadata": {
    "id": "NhioM3Q4aeTc"
   },
   "source": [
    "Ejemplo else"
   ]
  },
  {
   "cell_type": "code",
   "execution_count": null,
   "metadata": {
    "colab": {
     "base_uri": "https://localhost:8080/",
     "height": 0
    },
    "executionInfo": {
     "elapsed": 130,
     "status": "ok",
     "timestamp": 1680010336490,
     "user": {
      "displayName": "Brenda Ivette García Maya",
      "userId": "17523487134325692146"
     },
     "user_tz": 360
    },
    "id": "g_uPzqrNaMlP",
    "outputId": "d0839a8d-50f3-4bca-9949-2b741187b003"
   },
   "outputs": [],
   "source": [
    "if edad >=18:\n",
    "  print('Puedes votar')\n",
    "else:\n",
    "  print('No puedes votar')  "
   ]
  },
  {
   "cell_type": "markdown",
   "metadata": {
    "id": "UPRGHN2aa_BO"
   },
   "source": [
    "Ejemplo else if"
   ]
  },
  {
   "cell_type": "code",
   "execution_count": null,
   "metadata": {
    "colab": {
     "base_uri": "https://localhost:8080/",
     "height": 0
    },
    "executionInfo": {
     "elapsed": 14462,
     "status": "ok",
     "timestamp": 1680010612761,
     "user": {
      "displayName": "Brenda Ivette García Maya",
      "userId": "17523487134325692146"
     },
     "user_tz": 360
    },
    "id": "lJ6RrzADa1S7",
    "outputId": "a2f54c12-6c4d-4dca-8665-38625d1d0774"
   },
   "outputs": [],
   "source": [
    "numero=int(input('ingresa un número: '))"
   ]
  },
  {
   "cell_type": "code",
   "execution_count": null,
   "metadata": {
    "colab": {
     "base_uri": "https://localhost:8080/",
     "height": 0
    },
    "executionInfo": {
     "elapsed": 121,
     "status": "ok",
     "timestamp": 1680010773400,
     "user": {
      "displayName": "Brenda Ivette García Maya",
      "userId": "17523487134325692146"
     },
     "user_tz": 360
    },
    "id": "D6-tF-ffb1QD",
    "outputId": "fd442c12-167d-4db7-f16d-385e3639ddf7"
   },
   "outputs": [],
   "source": [
    "if numero >0:\n",
    "  print('El numero es positivo')\n",
    "elif numero <0:\n",
    "  print('El número es negativo')\n",
    "else:\n",
    "  print('El número es cero')"
   ]
  },
  {
   "cell_type": "code",
   "execution_count": null,
   "metadata": {
    "executionInfo": {
     "elapsed": 489,
     "status": "ok",
     "timestamp": 1680010786443,
     "user": {
      "displayName": "Brenda Ivette García Maya",
      "userId": "17523487134325692146"
     },
     "user_tz": 360
    },
    "id": "-ZxNc3pfcf-X"
   },
   "outputs": [],
   "source": [
    "numero=-1\n",
    "print(numero)"
   ]
  },
  {
   "cell_type": "code",
   "execution_count": null,
   "metadata": {
    "colab": {
     "base_uri": "https://localhost:8080/",
     "height": 0
    },
    "executionInfo": {
     "elapsed": 6,
     "status": "ok",
     "timestamp": 1680010804165,
     "user": {
      "displayName": "Brenda Ivette García Maya",
      "userId": "17523487134325692146"
     },
     "user_tz": 360
    },
    "id": "Hve8kJIpcjNS",
    "outputId": "32a1cc69-08ae-4904-9a21-c8117a67e032"
   },
   "outputs": [],
   "source": [
    "if numero >0:\n",
    "  print('El numero es positivo')\n",
    "elif numero <0:\n",
    "  print('El número es negativo')\n",
    "else:\n",
    "  print('El número es cero')"
   ]
  },
  {
   "cell_type": "code",
   "execution_count": null,
   "metadata": {
    "executionInfo": {
     "elapsed": 7,
     "status": "ok",
     "timestamp": 1680010814086,
     "user": {
      "displayName": "Brenda Ivette García Maya",
      "userId": "17523487134325692146"
     },
     "user_tz": 360
    },
    "id": "Fns6AnRdcnfW"
   },
   "outputs": [],
   "source": [
    "numero=0\n",
    "print(numero)"
   ]
  },
  {
   "cell_type": "code",
   "execution_count": null,
   "metadata": {
    "colab": {
     "base_uri": "https://localhost:8080/",
     "height": 0
    },
    "executionInfo": {
     "elapsed": 5,
     "status": "ok",
     "timestamp": 1680010826331,
     "user": {
      "displayName": "Brenda Ivette García Maya",
      "userId": "17523487134325692146"
     },
     "user_tz": 360
    },
    "id": "tx0WS2ePcp1S",
    "outputId": "41c04c46-aad6-4c73-e6f9-77abfe84351f"
   },
   "outputs": [],
   "source": [
    "if numero >0:\n",
    "  print('El numero es positivo')\n",
    "elif numero <0:\n",
    "  print('El número es negativo')\n",
    "else:\n",
    "  print('El número es cero')"
   ]
  },
  {
   "cell_type": "markdown",
   "metadata": {
    "id": "TX9dCDE9c5qL"
   },
   "source": [
    "Utilizar condicionales en cadenas de texto"
   ]
  },
  {
   "cell_type": "code",
   "execution_count": null,
   "metadata": {
    "executionInfo": {
     "elapsed": 315,
     "status": "ok",
     "timestamp": 1680010953669,
     "user": {
      "displayName": "Brenda Ivette García Maya",
      "userId": "17523487134325692146"
     },
     "user_tz": 360
    },
    "id": "MMijTiO9cs3B"
   },
   "outputs": [],
   "source": [
    "list_nom=['Ana','Lucas','Catalina','Javier']"
   ]
  },
  {
   "cell_type": "code",
   "execution_count": null,
   "metadata": {
    "executionInfo": {
     "elapsed": 295,
     "status": "ok",
     "timestamp": 1680011110442,
     "user": {
      "displayName": "Brenda Ivette García Maya",
      "userId": "17523487134325692146"
     },
     "user_tz": 360
    },
    "id": "eYfku0jhdMF1"
   },
   "outputs": [],
   "source": [
    "nombre=list_nom[3]"
   ]
  },
  {
   "cell_type": "code",
   "execution_count": null,
   "metadata": {
    "colab": {
     "base_uri": "https://localhost:8080/",
     "height": 0
    },
    "executionInfo": {
     "elapsed": 117,
     "status": "ok",
     "timestamp": 1680011114407,
     "user": {
      "displayName": "Brenda Ivette García Maya",
      "userId": "17523487134325692146"
     },
     "user_tz": 360
    },
    "id": "USs9Hi66dTSu",
    "outputId": "86190792-35f8-4392-a61c-a7fbf5ce7112"
   },
   "outputs": [],
   "source": [
    "if nombre in list_nom:\n",
    "   print('¡Hola ',nombre,'!')"
   ]
  },
  {
   "cell_type": "markdown",
   "metadata": {},
   "source": [
    "A partir de la versión 3.6 se introdujeron las f-string para imprimir texto con sus variables el formato es el siguiente:\n",
    "\n",
    "**f\"Esta es una f-string {nombre_var} y {nombre_var}.\"**\n",
    "\n",
    "Vamos reescribir el último bloque usando f-strings."
   ]
  },
  {
   "cell_type": "code",
   "execution_count": null,
   "metadata": {},
   "outputs": [],
   "source": [
    "if nombre in list_nom:\n",
    "   print(f'¡Hola {nombre}!')"
   ]
  },
  {
   "cell_type": "markdown",
   "metadata": {
    "id": "1mGxgeageCkh"
   },
   "source": [
    "Buscar una letra en una cadena de texto usando condicionales"
   ]
  },
  {
   "cell_type": "code",
   "execution_count": null,
   "metadata": {
    "colab": {
     "base_uri": "https://localhost:8080/",
     "height": 0
    },
    "executionInfo": {
     "elapsed": 21057,
     "status": "ok",
     "timestamp": 1680011262878,
     "user": {
      "displayName": "Brenda Ivette García Maya",
      "userId": "17523487134325692146"
     },
     "user_tz": 360
    },
    "id": "TeCSC3FDeGYP",
    "outputId": "f0c75980-66e2-485a-9b8c-6b669caa45a7"
   },
   "outputs": [],
   "source": [
    "cadena=input('Ingresa una cadena de texto: ')"
   ]
  },
  {
   "cell_type": "code",
   "execution_count": null,
   "metadata": {
    "colab": {
     "base_uri": "https://localhost:8080/",
     "height": 0
    },
    "executionInfo": {
     "elapsed": 10299,
     "status": "ok",
     "timestamp": 1680011308618,
     "user": {
      "displayName": "Brenda Ivette García Maya",
      "userId": "17523487134325692146"
     },
     "user_tz": 360
    },
    "id": "n8PZev6ieShH",
    "outputId": "e9937049-407b-4396-abc7-69523b5bdad7"
   },
   "outputs": [],
   "source": [
    "letra=input('Ingresa una letra: ')"
   ]
  },
  {
   "cell_type": "code",
   "execution_count": null,
   "metadata": {
    "colab": {
     "base_uri": "https://localhost:8080/",
     "height": 0
    },
    "executionInfo": {
     "elapsed": 136,
     "status": "ok",
     "timestamp": 1680011473362,
     "user": {
      "displayName": "Brenda Ivette García Maya",
      "userId": "17523487134325692146"
     },
     "user_tz": 360
    },
    "id": "6OO6HTfUegNs",
    "outputId": "3a35b0bc-3ef6-4edb-d7f6-6df04ee5ef26"
   },
   "outputs": [],
   "source": [
    "if letra in cadena:\n",
    "  print(f'La letra {letra} está dentro de la cadena de texto')\n",
    "else:\n",
    "  print(f'La letra {letra} No está dentro de la cadena de texto')"
   ]
  },
  {
   "cell_type": "code",
   "execution_count": null,
   "metadata": {
    "colab": {
     "base_uri": "https://localhost:8080/",
     "height": 35
    },
    "executionInfo": {
     "elapsed": 1004,
     "status": "ok",
     "timestamp": 1680013492544,
     "user": {
      "displayName": "Brenda Ivette García Maya",
      "userId": "17523487134325692146"
     },
     "user_tz": 360
    },
    "id": "3qW5ap7Hmyae",
    "outputId": "77276586-a8f5-4d14-a4d7-b33acf3af5b8"
   },
   "outputs": [],
   "source": [
    "from string import punctuation\n",
    "punctuation"
   ]
  },
  {
   "cell_type": "markdown",
   "metadata": {},
   "source": [
    "## Ecuaciones en LaTex"
   ]
  },
  {
   "cell_type": "markdown",
   "metadata": {
    "id": "1lzPqX11hDt_"
   },
   "source": [
    "Podemos insertar fórmula en el notebook si usamos LaTex. Así por escribir fracciones $\\frac{1}{2} + \\frac{4}{9}$, letras griegas\n",
    "$\\pi + \\theta + \\alpha$, fórmulas de cálculo $\\frac{dy}{dx} + \\int_0^5 (x^3+x-8) dx$, y muchas más."
   ]
  },
  {
   "cell_type": "markdown",
   "metadata": {},
   "source": [
    "Escribe las siguientes fórmulas usando la notación de LaTex.    "
   ]
  },
  {
   "attachments": {
    "latex1.png": {
     "image/png": "[encoded data removed]"
    }
   },
   "cell_type": "markdown",
   "metadata": {},
   "source": [
    "![latex1.png](attachment:latex1.png)"
   ]
  },
  {
   "cell_type": "code",
   "execution_count": null,
   "metadata": {},
   "outputs": [],
   "source": []
  }
 ],
 "metadata": {
  "colab": {
   "authorship_tag": "ABX9TyM533hrbEqHpdOg9pSk+hDd",
   "provenance": []
  },
  "kernelspec": {
   "display_name": "Python 3 (ipykernel)",
   "language": "python",
   "name": "python3"
  },
  "language_info": {
   "codemirror_mode": {
    "name": "ipython",
    "version": 3
   },
   "file_extension": ".py",
   "mimetype": "text/x-python",
   "name": "python",
   "nbconvert_exporter": "python",
   "pygments_lexer": "ipython3",
   "version": "3.11.4"
  }
 },
 "nbformat": 4,
 "nbformat_minor": 1
}
