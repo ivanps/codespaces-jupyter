{
 "cells": [
  {
   "cell_type": "markdown",
   "id": "251fa403-38ed-4a1e-b29e-492fd1d4a6ac",
   "metadata": {},
   "source": [
    "# Test"
   ]
  },
  {
   "cell_type": "code",
   "execution_count": 1,
   "id": "a847eda5-85ab-4b26-940e-b25d6582e393",
   "metadata": {},
   "outputs": [],
   "source": [
    "import pandas as pd"
   ]
  },
  {
   "cell_type": "code",
   "execution_count": 2,
   "id": "de73bc85-3337-4c56-8fe4-a22e65d209b2",
   "metadata": {},
   "outputs": [],
   "source": [
    "l = [3,4,4,2,8,19,31,43]"
   ]
  },
  {
   "cell_type": "code",
   "execution_count": 3,
   "id": "d37887d6-eaef-4d6e-8c1f-6b6549017cc7",
   "metadata": {},
   "outputs": [
    {
     "data": {
      "text/plain": [
       "8"
      ]
     },
     "execution_count": 3,
     "metadata": {},
     "output_type": "execute_result"
    }
   ],
   "source": [
    "len(l)"
   ]
  },
  {
   "cell_type": "code",
   "execution_count": null,
   "id": "8372931e-40b5-4edd-afc9-e5feda8901be",
   "metadata": {},
   "outputs": [],
   "source": []
  }
 ],
 "metadata": {
  "kernelspec": {
   "display_name": "Python 3 (ipykernel)",
   "language": "python",
   "name": "python3"
  },
  "language_info": {
   "codemirror_mode": {
    "name": "ipython",
    "version": 3
   },
   "file_extension": ".py",
   "mimetype": "text/x-python",
   "name": "python",
   "nbconvert_exporter": "python",
   "pygments_lexer": "ipython3",
   "version": "3.10.8"
  }
 },
 "nbformat": 4,
 "nbformat_minor": 5
}
